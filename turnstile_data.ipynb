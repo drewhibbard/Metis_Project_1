{
 "cells": [
  {
   "cell_type": "code",
   "execution_count": 16,
   "metadata": {},
   "outputs": [],
   "source": [
    "import pandas as pd\n",
    "import numpy as np\n",
    "\n",
    "# Create a list of years to capture\n",
    "\n",
    "year_list = [2015, 2016, 2017, 2018, 2019]\n",
    "\n",
    "# Write the path where you want to save your .csv files. Should start with \"r'Users/\" followed by the file\n",
    "# location where you wish to save. the files will be saved as turnstile+year.csv, i.e. turnstile2019.csv for 2019\n",
    "\n",
    "file_location = '//Users/gavin/Documents/Metis/Coursework/Week_1/Project_1/reference_data'"
   ]
  },
  {
   "cell_type": "code",
   "execution_count": 17,
   "metadata": {
    "scrolled": true
   },
   "outputs": [
    {
     "name": "stdout",
     "output_type": "stream",
     "text": [
      "2015 complete\n",
      "2016 complete\n",
      "2017 complete\n",
      "2018 complete\n",
      "2019 complete\n"
     ]
    }
   ],
   "source": [
    "def turnstile_pull(year, file_location):\n",
    "\n",
    "    download_dates = pd.date_range(start=str(year)+'-08-01',end=str(year)+'-10-31',freq='W-SAT')\n",
    "    download_dates = download_dates.astype(str)\n",
    "\n",
    "    base_url = (\"http://web.mta.info/developers/data/nyct/turnstile/turnstile_{}.txt\")\n",
    "\n",
    "    list_of_url = [base_url.format(date[2:4]+date[5:7]+date[8:]) for date in download_dates]\n",
    "\n",
    "    df = pd.concat((pd.read_csv(url) for url in list_of_url))\n",
    "    df.to_csv(r''+str(file_location)+'/turnstile'+str(year)+'.csv')\n",
    "    return print(str(year)+' complete')\n",
    "\n",
    "for year in year_list:\n",
    "    turnstile_pull(year, file_location)"
   ]
  },
  {
   "cell_type": "code",
   "execution_count": 21,
   "metadata": {},
   "outputs": [
    {
     "name": "stdout",
     "output_type": "stream",
     "text": [
      "2015 data complete\n",
      "2016 data complete\n",
      "2017 data complete\n",
      "2018 data complete\n",
      "2019 data complete\n"
     ]
    }
   ],
   "source": [
    "def SortValues(year,file_location):\n",
    "    for year in year_list:\n",
    "        mta = pd.read_csv(r''+file_location+'/turnstile'+str(year)+'.csv')\n",
    "        mta = mta.sort_values(['STATION','C/A','UNIT','SCP','DATE', 'TIME']).reset_index(drop=True)\n",
    "        mta.to_csv(r''+str(file_location)+'/turnstile'+str(year)+'.csv')\n",
    "        print(str(year)+' data complete')\n",
    "\n",
    "SortValues(year_list,file_location)\n",
    "    "
   ]
  },
  {
   "cell_type": "code",
   "execution_count": 22,
   "metadata": {},
   "outputs": [
    {
     "name": "stdout",
     "output_type": "stream",
     "text": [
      "2015 complete\n",
      "2016 complete\n",
      "2017 complete\n",
      "2018 complete\n",
      "2019 complete\n"
     ]
    }
   ],
   "source": [
    "def entry_exit_rate(year, file_location):\n",
    "    mta = pd.read_csv(r''+str(file_location)+'/turnstile'+str(year)+'.csv')\n",
    "    \n",
    "    mta['riders_in'] = mta.ENTRIES.diff()\n",
    "    mta.rename(columns={'EXITS                                                               ':'EXITS'},inplace=True)\n",
    "    mta['riders_out'] = mta.EXITS.diff()\n",
    "    mta['match'] = mta.SCP.eq(mta.SCP.shift())\n",
    "    import numpy as np\n",
    "    mta.loc[mta.match==False,['riders_in','riders_out']] = np.nan\n",
    "    mta.to_csv(r''+str(file_location)+'/turnstile'+str(year)+'.csv')\n",
    "    return print(str(year)+' complete')\n",
    "\n",
    "for year in year_list:\n",
    "    entry_exit_rate(year, file_location)"
   ]
  },
  {
   "cell_type": "code",
   "execution_count": 23,
   "metadata": {},
   "outputs": [
    {
     "name": "stdout",
     "output_type": "stream",
     "text": [
      "2016\n",
      "2017\n"
     ]
    },
    {
     "name": "stderr",
     "output_type": "stream",
     "text": [
      "/opt/anaconda3/lib/python3.8/site-packages/IPython/core/interactiveshell.py:3263: DtypeWarning: Columns (7) have mixed types.Specify dtype option on import or set low_memory=False.\n",
      "  if (await self.run_code(code, result,  async_=asy)):\n"
     ]
    },
    {
     "name": "stdout",
     "output_type": "stream",
     "text": [
      "2018\n",
      "2019\n",
      "(2705296, 17) is now (13039135, 16)\n"
     ]
    }
   ],
   "source": [
    "def turn_combine(year_list):\n",
    "    total_turn = pd.read_csv(r''+str(file_location)+'/turnstile'+str(year_list[0])+'.csv')\n",
    "    original_shape = total_turn.shape\n",
    "    total_turn.set_index('DATE', inplace=True)\n",
    "    \n",
    "    for year in year_list[1:]:\n",
    "        print(year)\n",
    "        year_to_add = pd.read_csv(r''+str(file_location)+'/turnstile'+str(year)+'.csv')\n",
    "        year_to_add.set_index('DATE', inplace=True)\n",
    "        total_turn=pd.concat([total_turn,year_to_add])\n",
    "    total_turn.drop(['Unnamed: 0','Unnamed: 0.1'], axis=1)    \n",
    "    total_turn.to_csv(r''+str(file_location)+'/turnstile_total.csv')\n",
    "    return print(str(original_shape)+' is now '+str(total_turn.shape))\n",
    "\n",
    "turn_combine(year_list)"
   ]
  },
  {
   "cell_type": "code",
   "execution_count": 34,
   "metadata": {},
   "outputs": [
    {
     "data": {
      "text/plain": [
       "Unnamed: 0          int64\n",
       "Unnamed: 0.1        int64\n",
       "Unnamed: 0.1.1      int64\n",
       "C/A                object\n",
       "UNIT               object\n",
       "SCP                object\n",
       "STATION            object\n",
       "LINENAME           object\n",
       "DIVISION           object\n",
       "DATE               object\n",
       "TIME               object\n",
       "DESC               object\n",
       "ENTRIES             int64\n",
       "EXITS               int64\n",
       "riders_in         float64\n",
       "riders_out        float64\n",
       "match                bool\n",
       "dtype: object"
      ]
     },
     "execution_count": 34,
     "metadata": {},
     "output_type": "execute_result"
    }
   ],
   "source": [
    "df2015 = pd.read_csv(r''+file_location+'/turnstile'+str(2019)+'.csv')\n",
    "df2015.dtypes\n"
   ]
  },
  {
   "cell_type": "code",
   "execution_count": 36,
   "metadata": {},
   "outputs": [],
   "source": [
    "total_turn = pd.read_csv(r''+str(file_location)+'/turnstile_total.csv')\n",
    "total_turn=total_turn.drop(['Unnamed: 0', 'Unnamed: 0.1'], axis=1)\n",
    "total_turn.to_csv(r''+str(file_location)+'/turnstile_total.csv')"
   ]
  },
  {
   "cell_type": "code",
   "execution_count": 33,
   "metadata": {},
   "outputs": [
    {
     "name": "stdout",
     "output_type": "stream",
     "text": [
      "['07/25/2015' '07/26/2015' '07/27/2015' '07/28/2015' '07/29/2015'\n",
      " '07/30/2015' '07/31/2015' '08/01/2015' '08/02/2015' '08/03/2015'\n",
      " '08/04/2015' '08/05/2015' '08/06/2015' '08/07/2015' '08/08/2015'\n",
      " '08/09/2015' '08/10/2015' '08/11/2015' '08/12/2015' '08/13/2015'\n",
      " '08/14/2015' '08/15/2015' '08/16/2015' '08/17/2015' '08/18/2015'\n",
      " '08/19/2015' '08/20/2015' '08/21/2015' '08/22/2015' '08/23/2015'\n",
      " '08/24/2015' '08/25/2015' '08/26/2015' '08/27/2015' '08/28/2015'\n",
      " '08/29/2015' '08/30/2015' '08/31/2015' '09/01/2015' '09/02/2015'\n",
      " '09/03/2015' '09/04/2015' '09/05/2015' '09/06/2015' '09/07/2015'\n",
      " '09/08/2015' '09/09/2015' '09/10/2015' '09/11/2015' '09/12/2015'\n",
      " '09/13/2015' '09/14/2015' '09/15/2015' '09/16/2015' '09/17/2015'\n",
      " '09/18/2015' '09/19/2015' '09/20/2015' '09/21/2015' '09/22/2015'\n",
      " '09/23/2015' '09/24/2015' '09/25/2015' '09/26/2015' '09/27/2015'\n",
      " '09/28/2015' '09/29/2015' '09/30/2015' '10/01/2015' '10/02/2015'\n",
      " '10/03/2015' '10/04/2015' '10/05/2015' '10/06/2015' '10/07/2015'\n",
      " '10/08/2015' '10/09/2015' '10/10/2015' '10/11/2015' '10/12/2015'\n",
      " '10/13/2015' '10/14/2015' '10/15/2015' '10/16/2015' '10/17/2015'\n",
      " '10/18/2015' '10/19/2015' '10/20/2015' '10/21/2015' '10/22/2015'\n",
      " '10/23/2015' '10/24/2015' '10/25/2015' '10/26/2015' '10/27/2015'\n",
      " '10/28/2015' '10/29/2015' '10/30/2015' '07/30/2016' '07/31/2016'\n",
      " '08/01/2016' '08/02/2016' '08/03/2016' '08/04/2016' '08/05/2016'\n",
      " '08/06/2016' '08/07/2016' '08/08/2016' '08/09/2016' '08/10/2016'\n",
      " '08/11/2016' '08/12/2016' '08/13/2016' '08/14/2016' '08/15/2016'\n",
      " '08/16/2016' '08/17/2016' '08/18/2016' '08/19/2016' '08/20/2016'\n",
      " '08/21/2016' '08/22/2016' '08/23/2016' '08/24/2016' '08/25/2016'\n",
      " '08/26/2016' '08/27/2016' '08/28/2016' '08/29/2016' '08/30/2016'\n",
      " '08/31/2016' '09/01/2016' '09/02/2016' '09/03/2016' '09/04/2016'\n",
      " '09/05/2016' '09/06/2016' '09/07/2016' '09/08/2016' '09/09/2016'\n",
      " '09/10/2016' '09/11/2016' '09/12/2016' '09/13/2016' '09/14/2016'\n",
      " '09/15/2016' '09/16/2016' '09/17/2016' '09/18/2016' '09/19/2016'\n",
      " '09/20/2016' '09/21/2016' '09/22/2016' '09/23/2016' '09/24/2016'\n",
      " '09/25/2016' '09/26/2016' '09/27/2016' '09/28/2016' '09/29/2016'\n",
      " '09/30/2016' '10/01/2016' '10/02/2016' '10/03/2016' '10/04/2016'\n",
      " '10/05/2016' '10/06/2016' '10/07/2016' '10/08/2016' '10/09/2016'\n",
      " '10/10/2016' '10/11/2016' '10/12/2016' '10/13/2016' '10/14/2016'\n",
      " '10/15/2016' '10/16/2016' '10/17/2016' '10/18/2016' '10/19/2016'\n",
      " '10/20/2016' '10/21/2016' '10/22/2016' '10/23/2016' '10/24/2016'\n",
      " '10/25/2016' '10/26/2016' '10/27/2016' '10/28/2016' '07/29/2017'\n",
      " '07/30/2017' '07/31/2017' '08/01/2017' '08/02/2017' '08/03/2017'\n",
      " '08/04/2017' '08/05/2017' '08/06/2017' '08/07/2017' '08/08/2017'\n",
      " '08/09/2017' '08/10/2017' '08/11/2017' '08/12/2017' '08/13/2017'\n",
      " '08/14/2017' '08/15/2017' '08/16/2017' '08/17/2017' '08/18/2017'\n",
      " '08/19/2017' '08/20/2017' '08/21/2017' '08/22/2017' '08/23/2017'\n",
      " '08/24/2017' '08/25/2017' '08/26/2017' '08/27/2017' '08/28/2017'\n",
      " '08/29/2017' '08/30/2017' '08/31/2017' '09/01/2017' '09/02/2017'\n",
      " '09/03/2017' '09/04/2017' '09/05/2017' '09/06/2017' '09/07/2017'\n",
      " '09/08/2017' '09/09/2017' '09/10/2017' '09/11/2017' '09/12/2017'\n",
      " '09/13/2017' '09/14/2017' '09/15/2017' '09/16/2017' '09/17/2017'\n",
      " '09/18/2017' '09/19/2017' '09/20/2017' '09/21/2017' '09/22/2017'\n",
      " '09/23/2017' '09/24/2017' '09/25/2017' '09/26/2017' '09/27/2017'\n",
      " '09/28/2017' '09/29/2017' '09/30/2017' '10/01/2017' '10/02/2017'\n",
      " '10/03/2017' '10/04/2017' '10/05/2017' '10/06/2017' '10/07/2017'\n",
      " '10/08/2017' '10/09/2017' '10/10/2017' '10/11/2017' '10/12/2017'\n",
      " '10/13/2017' '10/14/2017' '10/15/2017' '10/16/2017' '10/17/2017'\n",
      " '10/18/2017' '10/19/2017' '10/20/2017' '10/21/2017' '10/22/2017'\n",
      " '10/23/2017' '10/24/2017' '10/25/2017' '10/26/2017' '10/27/2017'\n",
      " '07/28/2018' '07/29/2018' '07/30/2018' '07/31/2018' '08/01/2018'\n",
      " '08/02/2018' '08/03/2018' '08/04/2018' '08/05/2018' '08/06/2018'\n",
      " '08/07/2018' '08/08/2018' '08/09/2018' '08/10/2018' '08/11/2018'\n",
      " '08/12/2018' '08/13/2018' '08/14/2018' '08/15/2018' '08/16/2018'\n",
      " '08/17/2018' '08/18/2018' '08/19/2018' '08/20/2018' '08/21/2018'\n",
      " '08/22/2018' '08/23/2018' '08/24/2018' '08/25/2018' '08/26/2018'\n",
      " '08/27/2018' '08/28/2018' '08/29/2018' '08/30/2018' '08/31/2018'\n",
      " '09/01/2018' '09/02/2018' '09/03/2018' '09/04/2018' '09/05/2018'\n",
      " '09/06/2018' '09/07/2018' '09/08/2018' '09/09/2018' '09/10/2018'\n",
      " '09/11/2018' '09/12/2018' '09/13/2018' '09/14/2018' '09/15/2018'\n",
      " '09/16/2018' '09/17/2018' '09/18/2018' '09/19/2018' '09/20/2018'\n",
      " '09/21/2018' '09/22/2018' '09/23/2018' '09/24/2018' '09/25/2018'\n",
      " '09/26/2018' '09/27/2018' '09/28/2018' '09/29/2018' '09/30/2018'\n",
      " '10/01/2018' '10/02/2018' '10/03/2018' '10/04/2018' '10/05/2018'\n",
      " '10/06/2018' '10/07/2018' '10/08/2018' '10/09/2018' '10/10/2018'\n",
      " '10/11/2018' '10/12/2018' '10/13/2018' '10/14/2018' '10/15/2018'\n",
      " '10/16/2018' '10/17/2018' '10/18/2018' '10/19/2018' '10/20/2018'\n",
      " '10/21/2018' '10/22/2018' '10/23/2018' '10/24/2018' '10/25/2018'\n",
      " '10/26/2018' '07/27/2019' '07/28/2019' '07/29/2019' '07/30/2019'\n",
      " '07/31/2019' '08/01/2019' '08/02/2019' '08/03/2019' '08/04/2019'\n",
      " '08/05/2019' '08/06/2019' '08/07/2019' '08/08/2019' '08/09/2019'\n",
      " '08/10/2019' '08/11/2019' '08/12/2019' '08/13/2019' '08/14/2019'\n",
      " '08/15/2019' '08/16/2019' '08/17/2019' '08/18/2019' '08/19/2019'\n",
      " '08/20/2019' '08/21/2019' '08/22/2019' '08/23/2019' '08/24/2019'\n",
      " '08/25/2019' '08/26/2019' '08/27/2019' '08/28/2019' '08/29/2019'\n",
      " '08/30/2019' '08/31/2019' '09/01/2019' '09/02/2019' '09/03/2019'\n",
      " '09/04/2019' '09/05/2019' '09/06/2019' '09/07/2019' '09/08/2019'\n",
      " '09/09/2019' '09/10/2019' '09/11/2019' '09/12/2019' '09/13/2019'\n",
      " '09/14/2019' '09/15/2019' '09/16/2019' '09/17/2019' '09/18/2019'\n",
      " '09/19/2019' '09/20/2019' '09/21/2019' '09/22/2019' '09/23/2019'\n",
      " '09/24/2019' '09/25/2019' '09/26/2019' '09/27/2019' '09/28/2019'\n",
      " '09/29/2019' '09/30/2019' '10/01/2019' '10/02/2019' '10/03/2019'\n",
      " '10/04/2019' '10/05/2019' '10/06/2019' '10/07/2019' '10/08/2019'\n",
      " '10/09/2019' '10/10/2019' '10/11/2019' '10/12/2019' '10/13/2019'\n",
      " '10/14/2019' '10/15/2019' '10/16/2019' '10/17/2019' '10/18/2019'\n",
      " '10/19/2019' '10/20/2019' '10/21/2019' '10/22/2019' '10/23/2019'\n",
      " '10/24/2019' '10/25/2019']\n"
     ]
    }
   ],
   "source": [
    "print(total_turn.DATE.unique())"
   ]
  },
  {
   "cell_type": "code",
   "execution_count": null,
   "metadata": {},
   "outputs": [],
   "source": []
  }
 ],
 "metadata": {
  "kernelspec": {
   "display_name": "Python 3",
   "language": "python",
   "name": "python3"
  },
  "language_info": {
   "codemirror_mode": {
    "name": "ipython",
    "version": 3
   },
   "file_extension": ".py",
   "mimetype": "text/x-python",
   "name": "python",
   "nbconvert_exporter": "python",
   "pygments_lexer": "ipython3",
   "version": "3.8.3"
  }
 },
 "nbformat": 4,
 "nbformat_minor": 4
}
